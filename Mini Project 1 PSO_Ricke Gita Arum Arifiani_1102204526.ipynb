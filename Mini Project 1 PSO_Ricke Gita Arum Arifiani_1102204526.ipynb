{
  "nbformat": 4,
  "nbformat_minor": 0,
  "metadata": {
    "colab": {
      "provenance": []
    },
    "kernelspec": {
      "name": "python3",
      "display_name": "Python 3"
    },
    "language_info": {
      "name": "python"
    }
  },
  "cells": [
    {
      "cell_type": "markdown",
      "source": [
        "# MINI PROJECT 1 PSO\n",
        "\n",
        "* Nama :  Ricke Gita Arum Arifiani\n",
        "* Nim  :  1102204526\n",
        "* Kelas:  S2TE-BP1\n",
        "* Link Google Collab: https://colab.research.google.com/drive/1VZMJTnx8cLnlc8shn20K7ZVhGT0z3K-O?usp=sharing"
      ],
      "metadata": {
        "id": "fJufdDDJ99Wd"
      }
    },
    {
      "cell_type": "code",
      "execution_count": 58,
      "metadata": {
        "id": "LtODELdw6GBo"
      },
      "outputs": [],
      "source": [
        "import pandas as pd\n",
        "from sklearn.model_selection import train_test_split, KFold, cross_val_score\n",
        "from sklearn.svm import SVC\n",
        "from sklearn.neighbors import KNeighborsClassifier\n",
        "from sklearn.metrics import accuracy_score, f1_score, precision_score, recall_score, confusion_matrix\n",
        "from tabulate import tabulate\n",
        "\n"
      ]
    },
    {
      "cell_type": "code",
      "source": [
        "dataset_cpa1 = pd.read_excel('CPA1.xlsx')\n",
        "dataset_cpa2 = pd.read_excel('CPA2.xlsx')\n",
        "dataset_cpa3 = pd.read_excel('CPA3.xlsx')\n",
        "dataset_cpb1 = pd.read_excel('CPB1.xlsx')\n",
        "dataset_cpb2 = pd.read_excel('CPB2.xlsx')\n",
        "dataset_cpb3 = pd.read_excel('CPB3.xlsx')\n",
        "dataset_cpb4 = pd.read_excel('CPB4.xlsx')\n",
        "dataset_cpb5 = pd.read_excel('CPB5.xlsx')\n",
        "dataset_cpb6 = pd.read_excel('CPB6.xlsx')\n",
        "dataset_cpb7 = pd.read_excel('CPB7.xlsx')"
      ],
      "metadata": {
        "id": "tq2kA-uR6Gr9"
      },
      "execution_count": 59,
      "outputs": []
    },
    {
      "cell_type": "code",
      "source": [
        "def evaluate_model(X, y, classifier, cv=10):\n",
        "    results = []\n",
        "\n",
        "    # 10-fold Cross Validation\n",
        "    kf = KFold(n_splits=cv, shuffle=True, random_state=42)\n",
        "    scores = cross_val_score(classifier, X, y, cv=kf, scoring='f1_macro')\n",
        "    y_pred = classifier.fit(X, y).predict(X)\n",
        "    tn, fp, fn, tp = confusion_matrix(y, y_pred).ravel()\n",
        "    sensitivity = tp / (tp + fn)\n",
        "    specificity = tn / (tn + fp)\n",
        "    accuracy = accuracy_score(y, y_pred)\n",
        "    results.append(['10-fold Cross Validation',\n",
        "                    f'{accuracy:.3f}',\n",
        "                    f'{scores.mean():.3f} (+/- {scores.std():.3f})',\n",
        "                    f'{sensitivity:.3f}',\n",
        "                    f'{specificity:.3f}'])\n",
        "\n",
        "    # 75% training, 25% testing\n",
        "    X_train, X_test, y_train, y_test = train_test_split(X, y, test_size=0.25, random_state=42)\n",
        "    classifier.fit(X_train, y_train)\n",
        "    y_pred = classifier.predict(X_test)\n",
        "    results.append(['75% training, 25% testing',\n",
        "                    f'{accuracy_score(y_test, y_pred):.3f}',\n",
        "                    f'{f1_score(y_test, y_pred, average=\"macro\"):.3f}',\n",
        "                    f'{recall_score(y_test, y_pred, average=\"macro\"):.3f}',\n",
        "                    f'{precision_score(y_test, y_pred, average=\"macro\"):.3f}'])\n",
        "\n",
        "    # 50% training, 25% validation, 25% testing\n",
        "    X_train, X_tmp, y_train, y_tmp = train_test_split(X, y, test_size=0.5, random_state=42)\n",
        "    X_val, X_test, y_val, y_test = train_test_split(X_tmp, y_tmp, test_size=0.5, random_state=42)\n",
        "    classifier.fit(X_train, y_train)\n",
        "    y_pred = classifier.predict(X_test)\n",
        "    results.append(['50% training, 25% validation, 25% testing',\n",
        "                    f'{accuracy_score(y_test, y_pred):.3f}',\n",
        "                    f'{f1_score(y_test, y_pred, average=\"macro\"):.3f}',\n",
        "                    f'{recall_score(y_test, y_pred, average=\"macro\"):.3f}',\n",
        "                    f'{precision_score(y_test, y_pred, average=\"macro\"):.3f}'])\n",
        "\n",
        "    return tabulate(results, headers=['Evaluation', 'Accuracy', 'F1-Score', 'Sensitivity', 'Specificity'], tablefmt='fancy_grid')"
      ],
      "metadata": {
        "id": "ccVcxkK-6bNy"
      },
      "execution_count": 60,
      "outputs": []
    },
    {
      "cell_type": "code",
      "source": [
        "# Klasifikasi dataset CPA1\n",
        "print(\"\\nKlasifikasi dataset CPA1\")\n",
        "X_cpa1 = dataset_cpa1[['powLv1', 'powLv2', 'powLv3', 'powLv4', 'powLv5']]\n",
        "y_cpa1 = dataset_cpa1['kelas']\n",
        "print(\"\\nSVM:\")\n",
        "print(evaluate_model(X_cpa1, y_cpa1, SVC()))\n",
        "print(\"\\nK-NN:\")\n",
        "print(evaluate_model(X_cpa1, y_cpa1, KNeighborsClassifier()))\n",
        "\n",
        "\n",
        "# Klasifikasi dataset CPA2\n",
        "print(\"\\nKlasifikasi dataset CPA2\")\n",
        "X_cpa2 = dataset_cpa2[['powLv1', 'powLv2', 'powLv3', 'powLv4', 'powLv5']]\n",
        "y_cpa2 = dataset_cpa2['kelas']\n",
        "print(\"\\nSVM:\")\n",
        "print(evaluate_model(X_cpa2, y_cpa2, SVC()))\n",
        "print(\"\\nK-NN:\")\n",
        "print(evaluate_model(X_cpa2, y_cpa2, KNeighborsClassifier()))\n",
        "\n",
        "# Klasifikasi dataset CPA3\n",
        "print(\"\\nKlasifikasi dataset CPA3\")\n",
        "X_cpa3 = dataset_cpa3[['powLv1', 'powLv2', 'powLv3', 'powLv4', 'powLv5']]\n",
        "y_cpa3 = dataset_cpa3['kelas']\n",
        "print(\"\\nSVM:\")\n",
        "print(evaluate_model(X_cpa3, y_cpa3, SVC()))\n",
        "print(\"\\nK-NN:\")\n",
        "print(evaluate_model(X_cpa3, y_cpa3, KNeighborsClassifier()))\n"
      ],
      "metadata": {
        "colab": {
          "base_uri": "https://localhost:8080/"
        },
        "id": "7QcjlaiY6x3s",
        "outputId": "09e63b80-9491-4126-cbe0-20f384b84c61"
      },
      "execution_count": 61,
      "outputs": [
        {
          "output_type": "stream",
          "name": "stdout",
          "text": [
            "\n",
            "Klasifikasi dataset CPA1\n",
            "\n",
            "SVM:\n",
            "╒═══════════════════════════════════════════╤════════════╤═══════════════════╤═══════════════╤═══════════════╕\n",
            "│ Evaluation                                │   Accuracy │ F1-Score          │   Sensitivity │   Specificity │\n",
            "╞═══════════════════════════════════════════╪════════════╪═══════════════════╪═══════════════╪═══════════════╡\n",
            "│ 10-fold Cross Validation                  │      0.525 │ 0.351 (+/- 0.097) │          0.89 │          0.16 │\n",
            "├───────────────────────────────────────────┼────────────┼───────────────────┼───────────────┼───────────────┤\n",
            "│ 75% training, 25% testing                 │      0.46  │ 0.315             │          0.5  │          0.23 │\n",
            "├───────────────────────────────────────────┼────────────┼───────────────────┼───────────────┼───────────────┤\n",
            "│ 50% training, 25% validation, 25% testing │      0.42  │ 0.296             │          0.5  │          0.21 │\n",
            "╘═══════════════════════════════════════════╧════════════╧═══════════════════╧═══════════════╧═══════════════╛\n",
            "\n",
            "K-NN:\n"
          ]
        },
        {
          "output_type": "stream",
          "name": "stderr",
          "text": [
            "/usr/local/lib/python3.10/dist-packages/sklearn/metrics/_classification.py:1344: UndefinedMetricWarning: Precision is ill-defined and being set to 0.0 in labels with no predicted samples. Use `zero_division` parameter to control this behavior.\n",
            "  _warn_prf(average, modifier, msg_start, len(result))\n",
            "/usr/local/lib/python3.10/dist-packages/sklearn/metrics/_classification.py:1344: UndefinedMetricWarning: Precision is ill-defined and being set to 0.0 in labels with no predicted samples. Use `zero_division` parameter to control this behavior.\n",
            "  _warn_prf(average, modifier, msg_start, len(result))\n"
          ]
        },
        {
          "output_type": "stream",
          "name": "stdout",
          "text": [
            "╒═══════════════════════════════════════════╤════════════╤═══════════════════╤═══════════════╤═══════════════╕\n",
            "│ Evaluation                                │   Accuracy │ F1-Score          │   Sensitivity │   Specificity │\n",
            "╞═══════════════════════════════════════════╪════════════╪═══════════════════╪═══════════════╪═══════════════╡\n",
            "│ 10-fold Cross Validation                  │      0.825 │ 0.732 (+/- 0.093) │         0.78  │         0.87  │\n",
            "├───────────────────────────────────────────┼────────────┼───────────────────┼───────────────┼───────────────┤\n",
            "│ 75% training, 25% testing                 │      0.76  │ 0.758             │         0.758 │         0.758 │\n",
            "├───────────────────────────────────────────┼────────────┼───────────────────┼───────────────┼───────────────┤\n",
            "│ 50% training, 25% validation, 25% testing │      0.62  │ 0.616             │         0.62  │         0.617 │\n",
            "╘═══════════════════════════════════════════╧════════════╧═══════════════════╧═══════════════╧═══════════════╛\n",
            "\n",
            "Klasifikasi dataset CPA2\n",
            "\n",
            "SVM:\n",
            "╒═══════════════════════════════════════════╤════════════╤═══════════════════╤═══════════════╤═══════════════╕\n",
            "│ Evaluation                                │   Accuracy │ F1-Score          │   Sensitivity │   Specificity │\n",
            "╞═══════════════════════════════════════════╪════════════╪═══════════════════╪═══════════════╪═══════════════╡\n",
            "│ 10-fold Cross Validation                  │       0.66 │ 0.402 (+/- 0.145) │           0.8 │          0.52 │\n",
            "├───────────────────────────────────────────┼────────────┼───────────────────┼───────────────┼───────────────┤\n",
            "│ 75% training, 25% testing                 │       0.46 │ 0.315             │           0.5 │          0.23 │\n",
            "├───────────────────────────────────────────┼────────────┼───────────────────┼───────────────┼───────────────┤\n",
            "│ 50% training, 25% validation, 25% testing │       0.42 │ 0.296             │           0.5 │          0.21 │\n",
            "╘═══════════════════════════════════════════╧════════════╧═══════════════════╧═══════════════╧═══════════════╛\n",
            "\n",
            "K-NN:\n"
          ]
        },
        {
          "output_type": "stream",
          "name": "stderr",
          "text": [
            "/usr/local/lib/python3.10/dist-packages/sklearn/metrics/_classification.py:1344: UndefinedMetricWarning: Precision is ill-defined and being set to 0.0 in labels with no predicted samples. Use `zero_division` parameter to control this behavior.\n",
            "  _warn_prf(average, modifier, msg_start, len(result))\n",
            "/usr/local/lib/python3.10/dist-packages/sklearn/metrics/_classification.py:1344: UndefinedMetricWarning: Precision is ill-defined and being set to 0.0 in labels with no predicted samples. Use `zero_division` parameter to control this behavior.\n",
            "  _warn_prf(average, modifier, msg_start, len(result))\n"
          ]
        },
        {
          "output_type": "stream",
          "name": "stdout",
          "text": [
            "╒═══════════════════════════════════════════╤════════════╤═══════════════════╤═══════════════╤═══════════════╕\n",
            "│ Evaluation                                │   Accuracy │ F1-Score          │   Sensitivity │   Specificity │\n",
            "╞═══════════════════════════════════════════╪════════════╪═══════════════════╪═══════════════╪═══════════════╡\n",
            "│ 10-fold Cross Validation                  │      0.795 │ 0.728 (+/- 0.141) │         0.72  │         0.87  │\n",
            "├───────────────────────────────────────────┼────────────┼───────────────────┼───────────────┼───────────────┤\n",
            "│ 75% training, 25% testing                 │      0.82  │ 0.819             │         0.82  │         0.819 │\n",
            "├───────────────────────────────────────────┼────────────┼───────────────────┼───────────────┼───────────────┤\n",
            "│ 50% training, 25% validation, 25% testing │      0.66  │ 0.660             │         0.681 │         0.683 │\n",
            "╘═══════════════════════════════════════════╧════════════╧═══════════════════╧═══════════════╧═══════════════╛\n",
            "\n",
            "Klasifikasi dataset CPA3\n",
            "\n",
            "SVM:\n",
            "╒═══════════════════════════════════════════╤════════════╤═══════════════════╤═══════════════╤═══════════════╕\n",
            "│ Evaluation                                │   Accuracy │ F1-Score          │   Sensitivity │   Specificity │\n",
            "╞═══════════════════════════════════════════╪════════════╪═══════════════════╪═══════════════╪═══════════════╡\n",
            "│ 10-fold Cross Validation                  │      0.667 │ 0.398 (+/- 0.037) │           0   │         1     │\n",
            "├───────────────────────────────────────────┼────────────┼───────────────────┼───────────────┼───────────────┤\n",
            "│ 75% training, 25% testing                 │      0.667 │ 0.400             │           0.5 │         0.333 │\n",
            "├───────────────────────────────────────────┼────────────┼───────────────────┼───────────────┼───────────────┤\n",
            "│ 50% training, 25% validation, 25% testing │      0.707 │ 0.414             │           0.5 │         0.353 │\n",
            "╘═══════════════════════════════════════════╧════════════╧═══════════════════╧═══════════════╧═══════════════╛\n",
            "\n",
            "K-NN:\n",
            "╒═══════════════════════════════════════════╤════════════╤═══════════════════╤═══════════════╤═══════════════╕\n",
            "│ Evaluation                                │   Accuracy │ F1-Score          │   Sensitivity │   Specificity │\n",
            "╞═══════════════════════════════════════════╪════════════╪═══════════════════╪═══════════════╪═══════════════╡\n",
            "│ 10-fold Cross Validation                  │      0.81  │ 0.688 (+/- 0.119) │         0.62  │         0.905 │\n",
            "├───────────────────────────────────────────┼────────────┼───────────────────┼───────────────┼───────────────┤\n",
            "│ 75% training, 25% testing                 │      0.773 │ 0.723             │         0.71  │         0.756 │\n",
            "├───────────────────────────────────────────┼────────────┼───────────────────┼───────────────┼───────────────┤\n",
            "│ 50% training, 25% validation, 25% testing │      0.773 │ 0.715             │         0.707 │         0.727 │\n",
            "╘═══════════════════════════════════════════╧════════════╧═══════════════════╧═══════════════╧═══════════════╛\n"
          ]
        },
        {
          "output_type": "stream",
          "name": "stderr",
          "text": [
            "/usr/local/lib/python3.10/dist-packages/sklearn/metrics/_classification.py:1344: UndefinedMetricWarning: Precision is ill-defined and being set to 0.0 in labels with no predicted samples. Use `zero_division` parameter to control this behavior.\n",
            "  _warn_prf(average, modifier, msg_start, len(result))\n",
            "/usr/local/lib/python3.10/dist-packages/sklearn/metrics/_classification.py:1344: UndefinedMetricWarning: Precision is ill-defined and being set to 0.0 in labels with no predicted samples. Use `zero_division` parameter to control this behavior.\n",
            "  _warn_prf(average, modifier, msg_start, len(result))\n"
          ]
        }
      ]
    },
    {
      "cell_type": "code",
      "source": [
        "# Klasifikasi dataset CPB1\n",
        "print(\"\\nKlasifikasi dataset CPB1\")\n",
        "X_cpb1 = dataset_cpb1[['powLv1', 'powLv2', 'powLv3', 'powLv4', 'powLv5']]\n",
        "y_cpb1 = dataset_cpb1['kelas']\n",
        "print(\"\\nSVM:\")\n",
        "print(evaluate_model(X_cpb1, y_cpb1, SVC()))\n",
        "print(\"\\nK-NN:\")\n",
        "print(evaluate_model(X_cpb1, y_cpb1, KNeighborsClassifier()))\n",
        "\n",
        "# Klasifikasi dataset CPB2\n",
        "print(\"\\nKlasifikasi dataset CPB2\")\n",
        "X_cpb2 = dataset_cpb2[['powLv1', 'powLv2', 'powLv3', 'powLv4', 'powLv5']]\n",
        "y_cpb2 = dataset_cpb2['kelas']\n",
        "print(\"\\nSVM:\")\n",
        "print(evaluate_model(X_cpb2, y_cpb2, SVC()))\n",
        "print(\"\\nK-NN:\")\n",
        "print(evaluate_model(X_cpb2, y_cpb2, KNeighborsClassifier()))\n",
        "\n",
        "# Klasifikasi dataset CPB3\n",
        "print(\"\\nKlasifikasi dataset CPB3\")\n",
        "X_cpb3 = dataset_cpb3[['powLv1', 'powLv2', 'powLv3', 'powLv4', 'powLv5']]\n",
        "y_cpb3 = dataset_cpb3['kelas']\n",
        "print(\"\\nSVM:\")\n",
        "print(evaluate_model(X_cpb3, y_cpb3, SVC()))\n",
        "print(\"\\nK-NN:\")\n",
        "print(evaluate_model(X_cpb3, y_cpb3, KNeighborsClassifier()))\n",
        "\n",
        "# Klasifikasi dataset CPB4\n",
        "print(\"\\nKlasifikasi dataset CPB4\")\n",
        "X_cpb4 = dataset_cpb4[['powLv1', 'powLv2', 'powLv3', 'powLv4', 'powLv5']]\n",
        "y_cpb4 = dataset_cpb4['kelas']\n",
        "print(\"\\nSVM:\")\n",
        "print(evaluate_model(X_cpb4, y_cpb4, SVC()))\n",
        "print(\"\\nK-NN:\")\n",
        "print(evaluate_model(X_cpb4, y_cpb4, KNeighborsClassifier()))\n",
        "\n",
        "# Klasifikasi dataset CPB5\n",
        "print(\"\\nKlasifikasi dataset CPB5\")\n",
        "X_cpb5 = dataset_cpb5[['powLv1', 'powLv2', 'powLv3', 'powLv4', 'powLv5']]\n",
        "y_cpb5 = dataset_cpb5['kelas']\n",
        "print(\"\\nSVM:\")\n",
        "print(evaluate_model(X_cpb5, y_cpb5, SVC()))\n",
        "print(\"\\nK-NN:\")\n",
        "print(evaluate_model(X_cpb5, y_cpb5, KNeighborsClassifier()))\n",
        "\n",
        "# Klasifikasi dataset CPB6\n",
        "print(\"\\nKlasifikasi dataset CPB6\")\n",
        "X_cpb6 = dataset_cpb6[['powLv1', 'powLv2', 'powLv3', 'powLv4', 'powLv5']]\n",
        "y_cpb6 = dataset_cpb6['kelas']\n",
        "print(\"\\nSVM:\")\n",
        "print(evaluate_model(X_cpb6, y_cpb6, SVC()))\n",
        "print(\"\\nK-NN:\")\n",
        "print(evaluate_model(X_cpb6, y_cpb6, KNeighborsClassifier()))\n",
        "\n",
        "# Klasifikasi dataset CPB7\n",
        "print(\"\\nKlasifikasi dataset CPB7\")\n",
        "X_cpb7 = dataset_cpb7[['powLv1', 'powLv2', 'powLv3', 'powLv4', 'powLv5']]\n",
        "y_cpb7 = dataset_cpb7['kelas']\n",
        "print(\"\\nSVM:\")\n",
        "print(evaluate_model(X_cpb7, y_cpb7, SVC()))\n",
        "print(\"\\nK-NN:\")\n",
        "print(evaluate_model(X_cpb7, y_cpb7, KNeighborsClassifier()))"
      ],
      "metadata": {
        "colab": {
          "base_uri": "https://localhost:8080/"
        },
        "id": "P8200wu_62jQ",
        "outputId": "521ed1bc-4093-4682-9f31-f101c06eccb8"
      },
      "execution_count": 62,
      "outputs": [
        {
          "output_type": "stream",
          "name": "stdout",
          "text": [
            "\n",
            "Klasifikasi dataset CPB1\n",
            "\n",
            "SVM:\n",
            "╒═══════════════════════════════════════════╤════════════╤═══════════════════╤═══════════════╤═══════════════╕\n",
            "│ Evaluation                                │   Accuracy │ F1-Score          │   Sensitivity │   Specificity │\n",
            "╞═══════════════════════════════════════════╪════════════╪═══════════════════╪═══════════════╪═══════════════╡\n",
            "│ 10-fold Cross Validation                  │      0.635 │ 0.400 (+/- 0.159) │          0.99 │          0.28 │\n",
            "├───────────────────────────────────────────┼────────────┼───────────────────┼───────────────┼───────────────┤\n",
            "│ 75% training, 25% testing                 │      0.46  │ 0.315             │          0.5  │          0.23 │\n",
            "├───────────────────────────────────────────┼────────────┼───────────────────┼───────────────┼───────────────┤\n",
            "│ 50% training, 25% validation, 25% testing │      0.42  │ 0.296             │          0.5  │          0.21 │\n",
            "╘═══════════════════════════════════════════╧════════════╧═══════════════════╧═══════════════╧═══════════════╛\n",
            "\n",
            "K-NN:\n"
          ]
        },
        {
          "output_type": "stream",
          "name": "stderr",
          "text": [
            "/usr/local/lib/python3.10/dist-packages/sklearn/metrics/_classification.py:1344: UndefinedMetricWarning: Precision is ill-defined and being set to 0.0 in labels with no predicted samples. Use `zero_division` parameter to control this behavior.\n",
            "  _warn_prf(average, modifier, msg_start, len(result))\n",
            "/usr/local/lib/python3.10/dist-packages/sklearn/metrics/_classification.py:1344: UndefinedMetricWarning: Precision is ill-defined and being set to 0.0 in labels with no predicted samples. Use `zero_division` parameter to control this behavior.\n",
            "  _warn_prf(average, modifier, msg_start, len(result))\n"
          ]
        },
        {
          "output_type": "stream",
          "name": "stdout",
          "text": [
            "╒═══════════════════════════════════════════╤════════════╤═══════════════════╤═══════════════╤═══════════════╕\n",
            "│ Evaluation                                │   Accuracy │ F1-Score          │   Sensitivity │   Specificity │\n",
            "╞═══════════════════════════════════════════╪════════════╪═══════════════════╪═══════════════╪═══════════════╡\n",
            "│ 10-fold Cross Validation                  │       0.89 │ 0.879 (+/- 0.051) │         0.89  │         0.89  │\n",
            "├───────────────────────────────────────────┼────────────┼───────────────────┼───────────────┼───────────────┤\n",
            "│ 75% training, 25% testing                 │       0.88 │ 0.879             │         0.879 │         0.879 │\n",
            "├───────────────────────────────────────────┼────────────┼───────────────────┼───────────────┼───────────────┤\n",
            "│ 50% training, 25% validation, 25% testing │       0.8  │ 0.799             │         0.808 │         0.8   │\n",
            "╘═══════════════════════════════════════════╧════════════╧═══════════════════╧═══════════════╧═══════════════╛\n",
            "\n",
            "Klasifikasi dataset CPB2\n",
            "\n",
            "SVM:\n",
            "╒═══════════════════════════════════════════╤════════════╤═══════════════════╤═══════════════╤═══════════════╕\n",
            "│ Evaluation                                │   Accuracy │ F1-Score          │   Sensitivity │   Specificity │\n",
            "╞═══════════════════════════════════════════╪════════════╪═══════════════════╪═══════════════╪═══════════════╡\n",
            "│ 10-fold Cross Validation                  │       0.64 │ 0.399 (+/- 0.157) │           1   │          0.28 │\n",
            "├───────────────────────────────────────────┼────────────┼───────────────────┼───────────────┼───────────────┤\n",
            "│ 75% training, 25% testing                 │       0.46 │ 0.315             │           0.5 │          0.23 │\n",
            "├───────────────────────────────────────────┼────────────┼───────────────────┼───────────────┼───────────────┤\n",
            "│ 50% training, 25% validation, 25% testing │       0.42 │ 0.296             │           0.5 │          0.21 │\n",
            "╘═══════════════════════════════════════════╧════════════╧═══════════════════╧═══════════════╧═══════════════╛\n",
            "\n",
            "K-NN:\n"
          ]
        },
        {
          "output_type": "stream",
          "name": "stderr",
          "text": [
            "/usr/local/lib/python3.10/dist-packages/sklearn/metrics/_classification.py:1344: UndefinedMetricWarning: Precision is ill-defined and being set to 0.0 in labels with no predicted samples. Use `zero_division` parameter to control this behavior.\n",
            "  _warn_prf(average, modifier, msg_start, len(result))\n",
            "/usr/local/lib/python3.10/dist-packages/sklearn/metrics/_classification.py:1344: UndefinedMetricWarning: Precision is ill-defined and being set to 0.0 in labels with no predicted samples. Use `zero_division` parameter to control this behavior.\n",
            "  _warn_prf(average, modifier, msg_start, len(result))\n"
          ]
        },
        {
          "output_type": "stream",
          "name": "stdout",
          "text": [
            "╒═══════════════════════════════════════════╤════════════╤═══════════════════╤═══════════════╤═══════════════╕\n",
            "│ Evaluation                                │   Accuracy │ F1-Score          │   Sensitivity │   Specificity │\n",
            "╞═══════════════════════════════════════════╪════════════╪═══════════════════╪═══════════════╪═══════════════╡\n",
            "│ 10-fold Cross Validation                  │       0.9  │ 0.860 (+/- 0.058) │         0.93  │         0.87  │\n",
            "├───────────────────────────────────────────┼────────────┼───────────────────┼───────────────┼───────────────┤\n",
            "│ 75% training, 25% testing                 │       0.88 │ 0.880             │         0.882 │         0.88  │\n",
            "├───────────────────────────────────────────┼────────────┼───────────────────┼───────────────┼───────────────┤\n",
            "│ 50% training, 25% validation, 25% testing │       0.8  │ 0.800             │         0.821 │         0.821 │\n",
            "╘═══════════════════════════════════════════╧════════════╧═══════════════════╧═══════════════╧═══════════════╛\n",
            "\n",
            "Klasifikasi dataset CPB3\n",
            "\n",
            "SVM:\n",
            "╒═══════════════════════════════════════════╤════════════╤═══════════════════╤═══════════════╤═══════════════╕\n",
            "│ Evaluation                                │   Accuracy │ F1-Score          │   Sensitivity │   Specificity │\n",
            "╞═══════════════════════════════════════════╪════════════╪═══════════════════╪═══════════════╪═══════════════╡\n",
            "│ 10-fold Cross Validation                  │      0.805 │ 0.446 (+/- 0.217) │          0.99 │          0.62 │\n",
            "├───────────────────────────────────────────┼────────────┼───────────────────┼───────────────┼───────────────┤\n",
            "│ 75% training, 25% testing                 │      0.46  │ 0.315             │          0.5  │          0.23 │\n",
            "├───────────────────────────────────────────┼────────────┼───────────────────┼───────────────┼───────────────┤\n",
            "│ 50% training, 25% validation, 25% testing │      0.42  │ 0.296             │          0.5  │          0.21 │\n",
            "╘═══════════════════════════════════════════╧════════════╧═══════════════════╧═══════════════╧═══════════════╛\n",
            "\n",
            "K-NN:\n"
          ]
        },
        {
          "output_type": "stream",
          "name": "stderr",
          "text": [
            "/usr/local/lib/python3.10/dist-packages/sklearn/metrics/_classification.py:1344: UndefinedMetricWarning: Precision is ill-defined and being set to 0.0 in labels with no predicted samples. Use `zero_division` parameter to control this behavior.\n",
            "  _warn_prf(average, modifier, msg_start, len(result))\n",
            "/usr/local/lib/python3.10/dist-packages/sklearn/metrics/_classification.py:1344: UndefinedMetricWarning: Precision is ill-defined and being set to 0.0 in labels with no predicted samples. Use `zero_division` parameter to control this behavior.\n",
            "  _warn_prf(average, modifier, msg_start, len(result))\n"
          ]
        },
        {
          "output_type": "stream",
          "name": "stdout",
          "text": [
            "╒═══════════════════════════════════════════╤════════════╤═══════════════════╤═══════════════╤═══════════════╕\n",
            "│ Evaluation                                │   Accuracy │ F1-Score          │   Sensitivity │   Specificity │\n",
            "╞═══════════════════════════════════════════╪════════════╪═══════════════════╪═══════════════╪═══════════════╡\n",
            "│ 10-fold Cross Validation                  │      0.905 │ 0.862 (+/- 0.082) │         0.94  │         0.87  │\n",
            "├───────────────────────────────────────────┼────────────┼───────────────────┼───────────────┼───────────────┤\n",
            "│ 75% training, 25% testing                 │      0.88  │ 0.879             │         0.879 │         0.879 │\n",
            "├───────────────────────────────────────────┼────────────┼───────────────────┼───────────────┼───────────────┤\n",
            "│ 50% training, 25% validation, 25% testing │      0.86  │ 0.857             │         0.86  │         0.856 │\n",
            "╘═══════════════════════════════════════════╧════════════╧═══════════════════╧═══════════════╧═══════════════╛\n",
            "\n",
            "Klasifikasi dataset CPB4\n",
            "\n",
            "SVM:\n",
            "╒═══════════════════════════════════════════╤════════════╤═══════════════════╤═══════════════╤═══════════════╕\n",
            "│ Evaluation                                │   Accuracy │ F1-Score          │   Sensitivity │   Specificity │\n",
            "╞═══════════════════════════════════════════╪════════════╪═══════════════════╪═══════════════╪═══════════════╡\n",
            "│ 10-fold Cross Validation                  │       0.8  │ 0.446 (+/- 0.216) │           1   │          0.6  │\n",
            "├───────────────────────────────────────────┼────────────┼───────────────────┼───────────────┼───────────────┤\n",
            "│ 75% training, 25% testing                 │       0.46 │ 0.315             │           0.5 │          0.23 │\n",
            "├───────────────────────────────────────────┼────────────┼───────────────────┼───────────────┼───────────────┤\n",
            "│ 50% training, 25% validation, 25% testing │       0.42 │ 0.296             │           0.5 │          0.21 │\n",
            "╘═══════════════════════════════════════════╧════════════╧═══════════════════╧═══════════════╧═══════════════╛\n",
            "\n",
            "K-NN:\n"
          ]
        },
        {
          "output_type": "stream",
          "name": "stderr",
          "text": [
            "/usr/local/lib/python3.10/dist-packages/sklearn/metrics/_classification.py:1344: UndefinedMetricWarning: Precision is ill-defined and being set to 0.0 in labels with no predicted samples. Use `zero_division` parameter to control this behavior.\n",
            "  _warn_prf(average, modifier, msg_start, len(result))\n",
            "/usr/local/lib/python3.10/dist-packages/sklearn/metrics/_classification.py:1344: UndefinedMetricWarning: Precision is ill-defined and being set to 0.0 in labels with no predicted samples. Use `zero_division` parameter to control this behavior.\n",
            "  _warn_prf(average, modifier, msg_start, len(result))\n"
          ]
        },
        {
          "output_type": "stream",
          "name": "stdout",
          "text": [
            "╒═══════════════════════════════════════════╤════════════╤═══════════════════╤═══════════════╤═══════════════╕\n",
            "│ Evaluation                                │   Accuracy │ F1-Score          │   Sensitivity │   Specificity │\n",
            "╞═══════════════════════════════════════════╪════════════╪═══════════════════╪═══════════════╪═══════════════╡\n",
            "│ 10-fold Cross Validation                  │      0.915 │ 0.886 (+/- 0.077) │         0.96  │         0.87  │\n",
            "├───────────────────────────────────────────┼────────────┼───────────────────┼───────────────┼───────────────┤\n",
            "│ 75% training, 25% testing                 │      0.88  │ 0.879             │         0.879 │         0.879 │\n",
            "├───────────────────────────────────────────┼────────────┼───────────────────┼───────────────┼───────────────┤\n",
            "│ 50% training, 25% validation, 25% testing │      0.88  │ 0.879             │         0.89  │         0.88  │\n",
            "╘═══════════════════════════════════════════╧════════════╧═══════════════════╧═══════════════╧═══════════════╛\n",
            "\n",
            "Klasifikasi dataset CPB5\n",
            "\n",
            "SVM:\n",
            "╒═══════════════════════════════════════════╤════════════╤═══════════════════╤═══════════════╤═══════════════╕\n",
            "│ Evaluation                                │   Accuracy │ F1-Score          │   Sensitivity │   Specificity │\n",
            "╞═══════════════════════════════════════════╪════════════╪═══════════════════╪═══════════════╪═══════════════╡\n",
            "│ 10-fold Cross Validation                  │      0.667 │ 0.398 (+/- 0.037) │           0   │         1     │\n",
            "├───────────────────────────────────────────┼────────────┼───────────────────┼───────────────┼───────────────┤\n",
            "│ 75% training, 25% testing                 │      0.667 │ 0.400             │           0.5 │         0.333 │\n",
            "├───────────────────────────────────────────┼────────────┼───────────────────┼───────────────┼───────────────┤\n",
            "│ 50% training, 25% validation, 25% testing │      0.707 │ 0.414             │           0.5 │         0.353 │\n",
            "╘═══════════════════════════════════════════╧════════════╧═══════════════════╧═══════════════╧═══════════════╛\n",
            "\n",
            "K-NN:\n"
          ]
        },
        {
          "output_type": "stream",
          "name": "stderr",
          "text": [
            "/usr/local/lib/python3.10/dist-packages/sklearn/metrics/_classification.py:1344: UndefinedMetricWarning: Precision is ill-defined and being set to 0.0 in labels with no predicted samples. Use `zero_division` parameter to control this behavior.\n",
            "  _warn_prf(average, modifier, msg_start, len(result))\n",
            "/usr/local/lib/python3.10/dist-packages/sklearn/metrics/_classification.py:1344: UndefinedMetricWarning: Precision is ill-defined and being set to 0.0 in labels with no predicted samples. Use `zero_division` parameter to control this behavior.\n",
            "  _warn_prf(average, modifier, msg_start, len(result))\n"
          ]
        },
        {
          "output_type": "stream",
          "name": "stdout",
          "text": [
            "╒═══════════════════════════════════════════╤════════════╤═══════════════════╤═══════════════╤═══════════════╕\n",
            "│ Evaluation                                │   Accuracy │ F1-Score          │   Sensitivity │   Specificity │\n",
            "╞═══════════════════════════════════════════╪════════════╪═══════════════════╪═══════════════╪═══════════════╡\n",
            "│ 10-fold Cross Validation                  │      0.883 │ 0.849 (+/- 0.058) │         0.84  │         0.905 │\n",
            "├───────────────────────────────────────────┼────────────┼───────────────────┼───────────────┼───────────────┤\n",
            "│ 75% training, 25% testing                 │      0.88  │ 0.869             │         0.88  │         0.861 │\n",
            "├───────────────────────────────────────────┼────────────┼───────────────────┼───────────────┼───────────────┤\n",
            "│ 50% training, 25% validation, 25% testing │      0.88  │ 0.861             │         0.875 │         0.85  │\n",
            "╘═══════════════════════════════════════════╧════════════╧═══════════════════╧═══════════════╧═══════════════╛\n",
            "\n",
            "Klasifikasi dataset CPB6\n",
            "\n",
            "SVM:\n",
            "╒═══════════════════════════════════════════╤════════════╤═══════════════════╤═══════════════╤═══════════════╕\n",
            "│ Evaluation                                │   Accuracy │ F1-Score          │   Sensitivity │   Specificity │\n",
            "╞═══════════════════════════════════════════╪════════════╪═══════════════════╪═══════════════╪═══════════════╡\n",
            "│ 10-fold Cross Validation                  │      0.667 │ 0.398 (+/- 0.037) │           0   │         1     │\n",
            "├───────────────────────────────────────────┼────────────┼───────────────────┼───────────────┼───────────────┤\n",
            "│ 75% training, 25% testing                 │      0.667 │ 0.400             │           0.5 │         0.333 │\n",
            "├───────────────────────────────────────────┼────────────┼───────────────────┼───────────────┼───────────────┤\n",
            "│ 50% training, 25% validation, 25% testing │      0.707 │ 0.414             │           0.5 │         0.353 │\n",
            "╘═══════════════════════════════════════════╧════════════╧═══════════════════╧═══════════════╧═══════════════╛\n",
            "\n",
            "K-NN:\n"
          ]
        },
        {
          "output_type": "stream",
          "name": "stderr",
          "text": [
            "/usr/local/lib/python3.10/dist-packages/sklearn/metrics/_classification.py:1344: UndefinedMetricWarning: Precision is ill-defined and being set to 0.0 in labels with no predicted samples. Use `zero_division` parameter to control this behavior.\n",
            "  _warn_prf(average, modifier, msg_start, len(result))\n",
            "/usr/local/lib/python3.10/dist-packages/sklearn/metrics/_classification.py:1344: UndefinedMetricWarning: Precision is ill-defined and being set to 0.0 in labels with no predicted samples. Use `zero_division` parameter to control this behavior.\n",
            "  _warn_prf(average, modifier, msg_start, len(result))\n"
          ]
        },
        {
          "output_type": "stream",
          "name": "stdout",
          "text": [
            "╒═══════════════════════════════════════════╤════════════╤═══════════════════╤═══════════════╤═══════════════╕\n",
            "│ Evaluation                                │   Accuracy │ F1-Score          │   Sensitivity │   Specificity │\n",
            "╞═══════════════════════════════════════════╪════════════╪═══════════════════╪═══════════════╪═══════════════╡\n",
            "│ 10-fold Cross Validation                  │      0.9   │ 0.830 (+/- 0.070) │         0.9   │         0.9   │\n",
            "├───────────────────────────────────────────┼────────────┼───────────────────┼───────────────┼───────────────┤\n",
            "│ 75% training, 25% testing                 │      0.853 │ 0.842             │         0.86  │         0.833 │\n",
            "├───────────────────────────────────────────┼────────────┼───────────────────┼───────────────┼───────────────┤\n",
            "│ 50% training, 25% validation, 25% testing │      0.92  │ 0.910             │         0.943 │         0.893 │\n",
            "╘═══════════════════════════════════════════╧════════════╧═══════════════════╧═══════════════╧═══════════════╛\n",
            "\n",
            "Klasifikasi dataset CPB7\n",
            "\n",
            "SVM:\n",
            "╒═══════════════════════════════════════════╤════════════╤═══════════════════╤═══════════════╤═══════════════╕\n",
            "│ Evaluation                                │   Accuracy │ F1-Score          │   Sensitivity │   Specificity │\n",
            "╞═══════════════════════════════════════════╪════════════╪═══════════════════╪═══════════════╪═══════════════╡\n",
            "│ 10-fold Cross Validation                  │      0.723 │ 0.436 (+/- 0.150) │         0.995 │          0.45 │\n",
            "├───────────────────────────────────────────┼────────────┼───────────────────┼───────────────┼───────────────┤\n",
            "│ 75% training, 25% testing                 │      0.48  │ 0.324             │         0.5   │          0.24 │\n",
            "├───────────────────────────────────────────┼────────────┼───────────────────┼───────────────┼───────────────┤\n",
            "│ 50% training, 25% validation, 25% testing │      0.54  │ 0.351             │         0.5   │          0.27 │\n",
            "╘═══════════════════════════════════════════╧════════════╧═══════════════════╧═══════════════╧═══════════════╛\n",
            "\n",
            "K-NN:\n",
            "╒═══════════════════════════════════════════╤════════════╤═══════════════════╤═══════════════╤═══════════════╕\n",
            "│ Evaluation                                │   Accuracy │ F1-Score          │   Sensitivity │   Specificity │\n",
            "╞═══════════════════════════════════════════╪════════════╪═══════════════════╪═══════════════╪═══════════════╡\n",
            "│ 10-fold Cross Validation                  │      0.895 │ 0.851 (+/- 0.051) │         0.915 │         0.875 │\n",
            "├───────────────────────────────────────────┼────────────┼───────────────────┼───────────────┼───────────────┤\n",
            "│ 75% training, 25% testing                 │      0.86  │ 0.860             │         0.862 │         0.864 │\n",
            "├───────────────────────────────────────────┼────────────┼───────────────────┼───────────────┼───────────────┤\n",
            "│ 50% training, 25% validation, 25% testing │      0.89  │ 0.889             │         0.89  │         0.889 │\n",
            "╘═══════════════════════════════════════════╧════════════╧═══════════════════╧═══════════════╧═══════════════╛\n"
          ]
        },
        {
          "output_type": "stream",
          "name": "stderr",
          "text": [
            "/usr/local/lib/python3.10/dist-packages/sklearn/metrics/_classification.py:1344: UndefinedMetricWarning: Precision is ill-defined and being set to 0.0 in labels with no predicted samples. Use `zero_division` parameter to control this behavior.\n",
            "  _warn_prf(average, modifier, msg_start, len(result))\n",
            "/usr/local/lib/python3.10/dist-packages/sklearn/metrics/_classification.py:1344: UndefinedMetricWarning: Precision is ill-defined and being set to 0.0 in labels with no predicted samples. Use `zero_division` parameter to control this behavior.\n",
            "  _warn_prf(average, modifier, msg_start, len(result))\n"
          ]
        }
      ]
    },
    {
      "cell_type": "code",
      "source": [],
      "metadata": {
        "id": "hoCOd5Xc8KUL"
      },
      "execution_count": null,
      "outputs": []
    }
  ]
}